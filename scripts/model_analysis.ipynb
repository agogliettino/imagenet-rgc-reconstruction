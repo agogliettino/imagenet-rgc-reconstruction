{
 "cells": [
  {
   "cell_type": "code",
   "execution_count": null,
   "id": "adda9f62",
   "metadata": {},
   "outputs": [],
   "source": [
    "import numpy as np\n",
    "import scipy as sp\n",
    "import matplotlib.pyplot as plt\n",
    "import sys\n",
    "import os\n",
    "from scipy import linalg\n",
    "import visionloader as vl\n",
    "import torch\n",
    "import torch.nn as nn\n",
    "sys.path.insert(0, '/home/agogliet/gogliettino/projects/natural-scenes-reco/repos/imagenet-rgc-reco/')\n",
    "from src.Dataset import Dataset\n",
    "import src.models as models\n",
    "import torch.optim as optim\n",
    "import time\n",
    "from skimage.metrics import structural_similarity as ssim\n",
    "from skimage.metrics import mean_squared_error as mse\n",
    "from skimage.metrics import peak_signal_noise_ratio as psnr\n",
    "import palettable\n",
    "import matplotlib as mpl\n",
    "from matplotlib.patches import Ellipse"
   ]
  },
  {
   "cell_type": "markdown",
   "id": "58d55eb6",
   "metadata": {},
   "source": [
    "## Load data"
   ]
  },
  {
   "cell_type": "code",
   "execution_count": null,
   "id": "e978de32",
   "metadata": {},
   "outputs": [],
   "source": [
    "# cellids_dict = np.load('./tmp/2018-08-07-5/kilosort_data001-kilosort_data002/'\\\n",
    "#                        'cellids_dict.npy',allow_pickle=True).item()\n",
    "# responses = np.load('./tmp/2018-08-07-5/kilosort_data001-kilosort_data002/test_X1.npy')\n",
    "# ns_tensor = np.load('./tmp/2018-08-07-5/kilosort_data001-kilosort_data002/test_Y1.npy')\n",
    "# wn_vcd = vl.load_vision_data('/Volumes/Analysis/2018-08-07-5/kilosort_data011/data011/',\n",
    "#                              'data011',include_neurons=True,include_params=True,\n",
    "#                               include_runtimemovie_params=True)\n",
    "# wn_cellids = sorted(list(cellids_dict['celltypes'].keys()))\n",
    "# ns_cellids = sorted(list(cellids_dict['ns1_to_ns2']))\n",
    "cellids_dict = np.load('./tmp/2018-08-07-5/yass_data001-yass_data002/'\\\n",
    "                       'cellids_dict.npy',allow_pickle=True).item()\n",
    "responses = np.load('./tmp/2018-08-07-5/yass_data001-yass_data002/test_X1.npy')\n",
    "ns_tensor = np.load('./tmp/2018-08-07-5/yass_data001-yass_data002/test_Y1.npy')\n",
    "wn_vcd = vl.load_vision_data('/Volumes/Analysis/2018-08-07-5/yass_data000/data000/',\n",
    "                             'data000',include_neurons=True,include_params=True,\n",
    "                              include_runtimemovie_params=True)\n",
    "wn_cellids = sorted(list(cellids_dict['celltypes'].keys()))\n",
    "ns_cellids = sorted(list(cellids_dict['ns1_to_ns2']))"
   ]
  },
  {
   "cell_type": "markdown",
   "id": "5d1eabd0",
   "metadata": {},
   "source": [
    "## Make example plots of RGC activations."
   ]
  },
  {
   "cell_type": "code",
   "execution_count": null,
   "id": "e394b368",
   "metadata": {
    "scrolled": false
   },
   "outputs": [],
   "source": [
    "NUM_SIGMAS_RF_FIT = 2\n",
    "width = int(wn_vcd.runtimemovie_params.width)\n",
    "height = int(wn_vcd.runtimemovie_params.height)\n",
    "cmap = palettable.colorbrewer.diverging.Spectral_11_r.mpl_colormap\n",
    "norm = mpl.colors.Normalize(vmin=0,vmax=15)\n",
    "\n",
    "for i in range(ns_tensor.shape[0]):\n",
    "    \n",
    "    if i not in [0,45]:\n",
    "         continue\n",
    "    \n",
    "    fig,ax = plt.subplots(1,5,figsize=(50,10))\n",
    "    ax[0].imshow(ns_tensor[i,:,32:288,:],cmap='gray')\n",
    "    \n",
    "    # Plot the mosaics colored by the median number of spikes.\n",
    "    for ww,wn_cell in enumerate(wn_cellids):\n",
    "        celltype = cellids_dict['celltypes'][wn_cell]\n",
    "        \n",
    "        if \"on\" in celltype and \"parasol\" in celltype:\n",
    "            ind = 1 \n",
    "        elif \"off\" in celltype and \"parasol\" in celltype:\n",
    "            ind = 2 \n",
    "        elif \"on\" in celltype and 'midget' in celltype:\n",
    "            ind = 3 \n",
    "        elif \"off\" in celltype and 'midget' in celltype:\n",
    "            ind = 4 \n",
    "            \n",
    "        # Get the STA fits. \n",
    "        sta_fit = wn_vcd.get_stafit_for_cell(wn_cell)\n",
    "        mu_x = sta_fit.center_x\n",
    "        mu_y = sta_fit.center_y\n",
    "        sigma_y = sta_fit.std_x\n",
    "        sigma_x = sta_fit.std_y\n",
    "        degrees = sta_fit.rot * (180 / np.pi) * -1\n",
    "        fit = Ellipse(xy = (mu_x,mu_y), width = NUM_SIGMAS_RF_FIT * sigma_y,\n",
    "              height = NUM_SIGMAS_RF_FIT * sigma_x,\n",
    "              angle = degrees)\n",
    "#         ax[ind+1].set(xlim=[0,(width-1)],ylim=[0,(height-1)],aspect=1)\n",
    "        ax[ind].set(xlim=[0,(width-1)],ylim=[(height-1),0],aspect=1)\n",
    "        ax[ind].add_artist(fit)\n",
    "        \n",
    "        # Get the corresponding NS cell \n",
    "        ns_cell = cellids_dict['wn_to_ns1'][wn_cell]\n",
    "        ns_cell_ind = ns_cellids.index(ns_cell)\n",
    "        n_spikes = responses[i,ns_cell_ind]\n",
    "        color = cmap(norm(n_spikes))\n",
    "        fit.set_facecolor(color)\n",
    "        fit.set_edgecolor('k')\n",
    "    \n",
    "    for j in range(5):\n",
    "        ax[j].axis('off')\n",
    "    \n",
    "    plt.savefig('./tmp/2018-08-07-5/yass_data001-yass_data002/'\\\n",
    "                        'linear-recons/trained-model/figures/encoding_%s.pdf'%str(i)) \n",
    "    plt.show()"
   ]
  },
  {
   "cell_type": "code",
   "execution_count": null,
   "id": "6120f5d7",
   "metadata": {},
   "outputs": [],
   "source": [
    "fig, ax = plt.subplots(figsize=(3,.15))\n",
    "plt.rc('font',size=18)\n",
    "\n",
    "norm = mpl.colors.Normalize(vmin=0,\n",
    "                            vmax=15)\n",
    "\n",
    "cb1 = mpl.colorbar.ColorbarBase(ax, cmap=cmap,\n",
    "                                norm=norm,\n",
    "                                orientation='horizontal')\n",
    "cb1.set_label('firing rate (spikes)')\n",
    "plt.savefig('./tmp/2018-08-07-5/yass_data001-yass_data002/'\\\n",
    "                        'linear-recons/trained-model/figures/cbar.pdf')"
   ]
  },
  {
   "cell_type": "markdown",
   "id": "6c387db3",
   "metadata": {},
   "source": [
    "## Load in training results"
   ]
  },
  {
   "cell_type": "code",
   "execution_count": null,
   "id": "b13dd5ef",
   "metadata": {},
   "outputs": [],
   "source": [
    "trained_model = np.load('./tmp/2018-08-07-5/yass_data001-yass_data002/'\\\n",
    "                        'linear-recons/trained-model/trained_model_10_epochs.npy',allow_pickle=True).item()\n",
    "trained_model_end_to_end = np.load('./tmp/2018-08-07-5/yass_data001-yass_data002/'\\\n",
    "                        'end-to-end/trained-model/trained_model_2_epochs.npy',allow_pickle=True).item()\n",
    "Y_hat_test = trained_model['Y_hat_test']\n",
    "Y_hat_test_end_to_end = trained_model_end_to_end['Y_hat_test']\n",
    "Y_test = trained_model['Y_test']\n",
    "X_test = trained_model['X_test']"
   ]
  },
  {
   "cell_type": "code",
   "execution_count": null,
   "id": "27605024",
   "metadata": {
    "scrolled": true
   },
   "outputs": [],
   "source": [
    "for i in range(Y_hat_test.shape[0]):\n",
    "    \n",
    "#     if i not in [3,26,45,92,124,138,143]:\n",
    "#         continue\n",
    "        \n",
    "    fig,ax = plt.subplots(1,4,figsize=(20,5))\n",
    "    fig.subplots_adjust(wspace=.05)\n",
    "#     fig,ax = plt.subplots(1,3,figsize=(30,10))\n",
    "    ax[0].imshow(Y_test[i,...].squeeze(),cmap='gray')\n",
    "#     ax[0].set_title('ground truth')\n",
    "    ax[1].imshow(X_test[i,...].squeeze(),cmap='gray')\n",
    "#     ax[1].set_title('linear')\n",
    "    ax[2].imshow(Y_hat_test[i,...].squeeze(),cmap='gray')\n",
    "#     ax[2].set_title('linear + CNN')\n",
    "    ax[3].imshow(Y_hat_test_end_to_end[i,...].squeeze(),cmap='gray')\n",
    "#     ax[3].set_title('end-to-end CNN')\n",
    "    \n",
    "    for j in range(4):\n",
    "        ax[j].axis('off')\n",
    "    \n",
    "    print(i)\n",
    "    \n",
    "    plt.savefig('./tmp/2018-08-07-5/yass_data001-yass_data002/'\\\n",
    "                        'linear-recons/trained-model/figures/recon_example_%s.pdf'%str(i))\n",
    "    plt.show()"
   ]
  },
  {
   "cell_type": "markdown",
   "id": "f3132523",
   "metadata": {},
   "source": [
    "## Calculate MSE, SSIM, and PSNR"
   ]
  },
  {
   "cell_type": "code",
   "execution_count": null,
   "id": "8dc3dadb",
   "metadata": {},
   "outputs": [],
   "source": [
    "metric_dict = dict()\n",
    "\n",
    "for metric in ['ssim','mse','psnr']:\n",
    "    metric_dict[metric] = dict()\n",
    "metric_dict['ssim']['linear'] = np.asarray([ssim(Y_test[i,...].squeeze(),\n",
    "                                  X_test[i,...].squeeze()) for i in range(Y_test.shape[0])])\n",
    "metric_dict['ssim']['linear_cnn'] = np.asarray([ssim(Y_test[i,...].squeeze(),\n",
    "                                  Y_hat_test[i,...].squeeze()) for i in range(Y_test.shape[0])])\n",
    "metric_dict['ssim']['cnn_end_to_end'] = np.asarray([ssim(Y_test[i,...].squeeze(),\n",
    "                                  Y_hat_test_end_to_end[i,...].squeeze()) for i in range(Y_test.shape[0])])\n",
    "metric_dict['mse']['linear'] = np.asarray([mse(Y_test[i,...].squeeze(),\n",
    "                                  X_test[i,...].squeeze()) for i in range(Y_test.shape[0])])\n",
    "metric_dict['mse']['linear_cnn'] = np.asarray([mse(Y_test[i,...].squeeze(),\n",
    "                                  Y_hat_test[i,...].squeeze()) for i in range(Y_test.shape[0])])\n",
    "metric_dict['mse']['cnn_end_to_end'] = np.asarray([mse(Y_test[i,...].squeeze(),\n",
    "                                  Y_hat_test_end_to_end[i,...].squeeze()) for i in range(Y_test.shape[0])])\n",
    "metric_dict['psnr']['linear'] = np.asarray([psnr(Y_test[i,...].squeeze(),\n",
    "                                  X_test[i,...].squeeze()) for i in range(Y_test.shape[0])])\n",
    "metric_dict['psnr']['linear_cnn'] = np.asarray([psnr(Y_test[i,...].squeeze(),\n",
    "                                  Y_hat_test[i,...].squeeze()) for i in range(Y_test.shape[0])])\n",
    "metric_dict['psnr']['cnn_end_to_end'] = np.asarray([psnr(Y_test[i,...].squeeze(),\n",
    "                                  Y_hat_test_end_to_end[i,...].squeeze()) for i in range(Y_test.shape[0])])"
   ]
  },
  {
   "cell_type": "code",
   "execution_count": null,
   "id": "f944d51e",
   "metadata": {},
   "outputs": [],
   "source": [
    "np.median(metric_dict['mse']['linear_cnn'])"
   ]
  },
  {
   "cell_type": "code",
   "execution_count": null,
   "id": "79315836",
   "metadata": {},
   "outputs": [],
   "source": [
    "plt.plot(metric_dict['mse']['linear'])\n",
    "plt.plot(metric_dict['mse']['linear_cnn'])"
   ]
  },
  {
   "cell_type": "markdown",
   "id": "e5bcd508",
   "metadata": {},
   "source": [
    "## Make scatter plot comparing linear and conv "
   ]
  },
  {
   "cell_type": "code",
   "execution_count": null,
   "id": "637d840e",
   "metadata": {},
   "outputs": [],
   "source": [
    "ncol = 3\n",
    "nrow = 3\n",
    "fig,ax = plt.subplots(ncol,nrow,figsize=(15,15))\n",
    "fig.subplots_adjust(wspace=.3,hspace=.3)\n",
    "plt.rc('font',size=18)\n",
    "i = 0\n",
    "j = 0\n",
    "comps = [['linear','linear_cnn'],['linear_cnn','cnn_end_to_end'],['linear','cnn_end_to_end']]\n",
    "\n",
    "for comp in comps:\n",
    "    comp1 = comp[0]\n",
    "    comp2 = comp[1]\n",
    "    \n",
    "    for metric in metric_dict:\n",
    "        ax[i,j].scatter(metric_dict[metric][comp1],\n",
    "                        metric_dict[metric][comp2],c='k')\n",
    "        ax[i,j].set_xlabel('%s'%comp1)\n",
    "        ax[i,j].set_ylabel('%s'%comp2)\n",
    "        ylim = ax[i,j].get_ylim()\n",
    "        xlim = ax[i,j].get_xlim()\n",
    "        lim = np.min((ylim[0],xlim[0])),np.max((ylim[1],xlim[1]))\n",
    "        ax[i,j].set_xlim(lim)\n",
    "        ax[i,j].set_ylim(lim)\n",
    "        \n",
    "        ax[i,j].plot([0, 1], [0, 1], transform=ax[i,j].transAxes,c='r')\n",
    "        \n",
    "        ax[i,j].set_title(\"%s\"%(metric))\n",
    "        j +=1\n",
    "        \n",
    "        if j == ncol:\n",
    "            j = 0\n",
    "            i +=1\n",
    "            \n",
    "plt.savefig('model_analysis_scatter.pdf')\n",
    "plt.show()"
   ]
  },
  {
   "cell_type": "code",
   "execution_count": null,
   "id": "bb9a8358",
   "metadata": {},
   "outputs": [],
   "source": [
    "np.mean(metric_dict['psnr']['cnn_end_to_end'])"
   ]
  },
  {
   "cell_type": "code",
   "execution_count": null,
   "id": "d955db4e",
   "metadata": {},
   "outputs": [],
   "source": [
    "np.mean(metric_dict['psnr']['linear_cnn'])"
   ]
  },
  {
   "cell_type": "code",
   "execution_count": null,
   "id": "9b83c17d",
   "metadata": {},
   "outputs": [],
   "source": [
    "np.mean(metric_dict['psnr']['linear'])"
   ]
  },
  {
   "cell_type": "code",
   "execution_count": null,
   "id": "a80a1367",
   "metadata": {},
   "outputs": [],
   "source": [
    "np.min()"
   ]
  },
  {
   "cell_type": "code",
   "execution_count": null,
   "id": "3b199fca",
   "metadata": {},
   "outputs": [],
   "source": [
    "ax[0,0].get_ylim()"
   ]
  },
  {
   "cell_type": "code",
   "execution_count": null,
   "id": "e0425eab",
   "metadata": {},
   "outputs": [],
   "source": [
    "comp2"
   ]
  },
  {
   "cell_type": "code",
   "execution_count": null,
   "id": "12626275",
   "metadata": {},
   "outputs": [],
   "source": [
    "metric_dict['psnr'].keys()"
   ]
  },
  {
   "cell_type": "code",
   "execution_count": null,
   "id": "57fe5d9e",
   "metadata": {},
   "outputs": [],
   "source": [
    "print(metric_dict['psnr'])\n",
    "print(metric_dict['mse'])\n",
    "print(metric_dict['ssim'])"
   ]
  }
 ],
 "metadata": {
  "kernelspec": {
   "display_name": "Python 3 (ipykernel)",
   "language": "python",
   "name": "python3"
  },
  "language_info": {
   "codemirror_mode": {
    "name": "ipython",
    "version": 3
   },
   "file_extension": ".py",
   "mimetype": "text/x-python",
   "name": "python",
   "nbconvert_exporter": "python",
   "pygments_lexer": "ipython3",
   "version": "3.8.12"
  }
 },
 "nbformat": 4,
 "nbformat_minor": 5
}
